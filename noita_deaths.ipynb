{
 "cells": [
  {
   "cell_type": "markdown",
   "id": "5dd0e0df-ad64-46ab-a77c-359a9b40ac23",
   "metadata": {},
   "source": [
    "# Noita data exploration"
   ]
  },
  {
   "cell_type": "markdown",
   "id": "581e1ec2-e4af-4569-95e9-63541efd6420",
   "metadata": {},
   "source": [
    "What is noita? It's a super hard and fun game.\n",
    "  \n",
    "https://noitagame.com/\n",
    "  \n",
    "it's fantastic and I can spend hours talking about it so better just play it :) or go for a coffee with me :)"
   ]
  },
  {
   "cell_type": "markdown",
   "id": "5925db3d-4271-426f-88cc-0e3a0230574a",
   "metadata": {},
   "source": [
    "The game saves tons of data after each run that isn't really used anywhere. Each run has its own files at  \n",
    "```AppData/LocalLow/Nolla_Games_Noita/save00/stats/sessions```\n",
    "  \n",
    "and there, after each run, you can find all kinds of info, like: \n",
    "* what time you started the new game, \n",
    "* how long did the game last,\n",
    "* was it victorious,\n",
    "* which biomes did you visit, \n",
    "* what killed you, \n",
    "* hp & $ you ended up with, \n",
    "* cause of death, \n",
    "* how many enemies you killed etc.\n",
    "\n",
    "I have collected files from around 1000 ganes, it may be worth to explore that data and see what interesting stories can I pull out of this."
   ]
  },
  {
   "cell_type": "code",
   "execution_count": 122,
   "id": "a8c44b66-80af-4f09-ac2c-8bc10261895a",
   "metadata": {},
   "outputs": [],
   "source": [
    "with open('noita_path.txt') as path_file:\n",
    "    path = path_file.read()"
   ]
  },
  {
   "cell_type": "markdown",
   "id": "1ec77d5e-68e1-44a0-b5a9-0282320d4b06",
   "metadata": {},
   "source": [
    "Loading the data and putting it into a dict with datetime as a key. File names are generated with date and time a particular game started. YYYYMMDD-HHMMSS_....xml"
   ]
  },
  {
   "cell_type": "code",
   "execution_count": 146,
   "id": "9ce32d25-f364-4dbc-8b1f-9a98cd103fa7",
   "metadata": {},
   "outputs": [],
   "source": [
    "import xmltodict\n",
    "import json\n",
    "import os\n",
    "import pandas as pd\n",
    "from datetime import datetime\n",
    "\n",
    "\n",
    "stats = {}\n",
    "kills = {}\n",
    "\n",
    "for file in os.listdir(path):\n",
    "    with open(f'{path}/{file}', encoding='UTF-8') as file:\n",
    "        xml = xmltodict.parse(file.read())\n",
    "        if file.name.endswith('kills.xml'):\n",
    "            kills[datetime.strptime(file.name[-25: -10], '%Y%m%d-%H%M%S')] = xml\n",
    "        else:\n",
    "            stats[datetime.strptime(file.name[-25: -10], '%Y%m%d-%H%M%S')] = xml"
   ]
  },
  {
   "cell_type": "markdown",
   "id": "04dd1048-48f0-4a4b-ba76-15e98cd6f9eb",
   "metadata": {},
   "source": [
    "Each run has 2 files associetad with it. Example file names & files:  \n",
    "* '20210429-123554_kills.xml'\n",
    "* '20210429-123554_stats.xml'"
   ]
  },
  {
   "cell_type": "code",
   "execution_count": 148,
   "id": "86d817d3-8387-480d-961a-b16d22301e0f",
   "metadata": {},
   "outputs": [],
   "source": [
    "test_kills = '20230221-165450_kills.xml'\n",
    "test_stats = '20230221-165450_stats.xml'"
   ]
  },
  {
   "cell_type": "markdown",
   "id": "bced2a8f-c4c7-4313-9512-252ad2f7d9db",
   "metadata": {},
   "source": [
    "Let's take a look at an example file, starting with the easier one - **20230221-165450_kills.xml**:"
   ]
  },
  {
   "cell_type": "code",
   "execution_count": 149,
   "id": "075ce79f-0f3f-4ffe-842e-176142088ca5",
   "metadata": {},
   "outputs": [
    {
     "data": {
      "text/plain": [
       "{'Stats': {'@deaths': '1',\n",
       "  '@kills': '28',\n",
       "  '@player_kills': '0',\n",
       "  '@player_projectile_count': '0',\n",
       "  'death_map': {'E': {'@key': 'NULL | $damage_midas', '@value': '1'}},\n",
       "  'kill_map': {'E': [{'@key': 'acidshooter_weak', '@value': '1'},\n",
       "    {'@key': 'firebug', '@value': '1'},\n",
       "    {'@key': 'fireskull', '@value': '1'},\n",
       "    {'@key': 'longleg', '@value': '4'},\n",
       "    {'@key': 'miner', '@value': '1'},\n",
       "    {'@key': 'miner_weak', '@value': '4'},\n",
       "    {'@key': 'rat', '@value': '2'},\n",
       "    {'@key': 'scavenger_grenade', '@value': '1'},\n",
       "    {'@key': 'scavenger_smg', '@value': '2'},\n",
       "    {'@key': 'shotgunner', '@value': '3'},\n",
       "    {'@key': 'slimeshooter', '@value': '1'},\n",
       "    {'@key': 'slimeshooter_weak', '@value': '3'},\n",
       "    {'@key': 'zombie_weak', '@value': '4'}]}}}"
      ]
     },
     "execution_count": 149,
     "metadata": {},
     "output_type": "execute_result"
    }
   ],
   "source": [
    "with open(f'{path}/{test_kills}', encoding='UTF-8') as file:\n",
    "    test_kills_file = xmltodict.parse(file.read())\n",
    "    \n",
    "test_kills_file"
   ]
  },
  {
   "cell_type": "markdown",
   "id": "1c28ed4b-c43c-4dfd-b9dc-df53013bcaca",
   "metadata": {},
   "source": [
    "It's a recent run and I know for a fact it was victorious. \n",
    "* Deaths should always be a 1, as there's no way to respawn and every game ends with your death.\n",
    "* Kills seems to be just total entities I killed - boring.\n",
    "* player_kills is interesting. Possibly a sign the authors wanted to implement a multiplayer at some point, other than that you can kill yourself with your own projectile and that'd make it 1? Maybe worth testing.\n",
    "* player_projectile_count - I have no idea what that is. The name suggests to be a count of projectiles that were shot but the count is 0, so that's not it... \n",
    "* Death map seems to hold info on what killed me with what kind of damage. Victorious runs will usually say \"midas damage\".\n",
    "* Kill map is how many of each enemy type I killed. It was a short run where I decided to just run for it so the kill count will be small."
   ]
  },
  {
   "cell_type": "code",
   "execution_count": 150,
   "id": "5c40c8cd-57e3-4296-a2a1-c3e8bf4a6d13",
   "metadata": {},
   "outputs": [
    {
     "data": {
      "text/plain": [
       "{'Stats': {'@BUILD_NAME': 'Noita-Build-Apr 23 2021-18:44:24',\n",
       "  'stats': {'@biomes_visited_with_wands': '10',\n",
       "   '@damage_taken': '97.9292',\n",
       "   '@dead': '1',\n",
       "   '@death_count': '0',\n",
       "   '@death_pos.x': '6401.68',\n",
       "   '@death_pos.y': '15163',\n",
       "   '@enemies_killed': '29',\n",
       "   '@gold': '165',\n",
       "   '@gold_all': '1075',\n",
       "   '@gold_infinite': '0',\n",
       "   '@healed': '1.5',\n",
       "   '@heart_containers': '0',\n",
       "   '@hp': '100',\n",
       "   '@items': '24',\n",
       "   '@kicks': '12',\n",
       "   '@killed_by': ' | midas',\n",
       "   '@killed_by_extra': '',\n",
       "   '@places_visited': '10',\n",
       "   '@playtime': '776.6',\n",
       "   '@playtime_str': '0:12:56',\n",
       "   '@projectiles_shot': '1414',\n",
       "   '@streaks': '0',\n",
       "   '@teleports': '0',\n",
       "   '@wands_edited': '6',\n",
       "   '@world_seed': '82045564'},\n",
       "  'biome_baseline': {'@biomes_visited_with_wands': '6',\n",
       "   '@damage_taken': '24.7409',\n",
       "   '@dead': '0',\n",
       "   '@death_count': '0',\n",
       "   '@death_pos.x': '0',\n",
       "   '@death_pos.y': '0',\n",
       "   '@enemies_killed': '28',\n",
       "   '@gold': '362',\n",
       "   '@gold_all': '1072',\n",
       "   '@gold_infinite': '0',\n",
       "   '@healed': '0.9',\n",
       "   '@heart_containers': '0',\n",
       "   '@hp': '100',\n",
       "   '@items': '20',\n",
       "   '@kicks': '7',\n",
       "   '@killed_by': '',\n",
       "   '@killed_by_extra': '',\n",
       "   '@places_visited': '6',\n",
       "   '@playtime': '571.3',\n",
       "   '@playtime_str': '0:09:31',\n",
       "   '@projectiles_shot': '698',\n",
       "   '@streaks': '0',\n",
       "   '@teleports': '0',\n",
       "   '@wands_edited': '6',\n",
       "   '@world_seed': '82045564'},\n",
       "  'item_map': None,\n",
       "  'biomes_visited': {'E': [{'@key': '$biome_boss_arena', '@value': '1'},\n",
       "    {'@key': '$biome_boss_victoryroom', '@value': '1'},\n",
       "    {'@key': '$biome_coalmine', '@value': '1'},\n",
       "    {'@key': '$biome_crypt', '@value': '1'},\n",
       "    {'@key': '$biome_excavationsite', '@value': '1'},\n",
       "    {'@key': '$biome_holymountain', '@value': '1'},\n",
       "    {'@key': '$biome_rainforest', '@value': '1'},\n",
       "    {'@key': '$biome_snowcastle', '@value': '1'},\n",
       "    {'@key': '$biome_snowcave', '@value': '1'},\n",
       "    {'@key': '$biome_vault', '@value': '1'}]}}}"
      ]
     },
     "execution_count": 150,
     "metadata": {},
     "output_type": "execute_result"
    }
   ],
   "source": [
    "with open(f'{path}/{test_stats}', encoding='UTF-8') as file:\n",
    "    test_stats_file = xmltodict.parse(file.read())\n",
    "    \n",
    "test_stats_file"
   ]
  },
  {
   "cell_type": "markdown",
   "id": "802f455d-be32-47fe-aef3-3c8960776b4d",
   "metadata": {},
   "source": [
    "This file - **xxx_stats.xml** - is much more complex. From the top:\n",
    "* Build - game version. \n",
    "* biomes_visited_with_wands - possibly a stat to decide whether or not to give the player the wandless trophy.\n",
    "* damage_taken - self-explanatory, worth noting the game engine probably multiplies the value by 25 like all other damage.\n",
    "* dead - the game always ends with death.\n",
    "* death_count - no idea, honestly\n",
    "* death_pos - I can use it on a death map to see where I died the most.\n",
    "* enemies_killed is 1 more than in the kills file, possibly because of the final boss, which kills are tracked but isnt in the kills file.\n",
    "* gold - $ I held at the end probably\n",
    "* gold_all - probably the total amount of gold I gathered.\n",
    "* gold_infinite - a flag whether I had an infinite gold.\n",
    "* healed, heart_containers and hp I do not entirely understand\n",
    "* items - I highly doubt I picked up 24 items unless it also counts heart containers and spell refresh.\n",
    "* kicks - yeah.\n",
    "* killed_by and killed_by_extra is pretty cool, the game tracks what killed you and whether or not you have been polymorphed.\n",
    "* places_visited - how many biomes I run through. It's explicitely listed at the end.\n",
    "* playtime in seconds, playtime converted for the stats screen,\n",
    "* ...\n",
    "\n",
    "There's actually some weirdness going on in the stats file I don't understand, to be more specific the difference between stats and biome_baseline. I'll try to find some documentation on that, if no I'll experiment. For now I'll go with what I have, so my play hours, the play time etc.\n",
    "\n",
    "Looks like the parser is having some trouble with some dictionaries, I'll have to mitigate that. I'd love to clarify the diff between 'stats' and 'biome_baseline'"
   ]
  },
  {
   "cell_type": "markdown",
   "id": "c6cf9020-c1ad-48d2-8bbe-f051537f78b9",
   "metadata": {},
   "source": [
    "I feel like the most valuable variable I can grab and analyse other stuff against is time of the game - when did it start and how long it lasted. Problem - some games might have been saved and returned on a later time and this is not recorded in the files. I'll have to ignore that fact, most likely there's no work-around."
   ]
  },
  {
   "cell_type": "markdown",
   "id": "ed2309d5-2dc4-45a8-ae8c-7cc7d58373d2",
   "metadata": {},
   "source": [
    "There's also some decent info on biomes, usual death type (if not from midas, which is usually the death after finishing the game) vs play time and biomes visited. "
   ]
  },
  {
   "cell_type": "code",
   "execution_count": null,
   "id": "975fa885-43e5-44fc-8e77-70eaf891240e",
   "metadata": {},
   "outputs": [],
   "source": []
  }
 ],
 "metadata": {
  "kernelspec": {
   "display_name": "Python 3 (ipykernel)",
   "language": "python",
   "name": "python3"
  },
  "language_info": {
   "codemirror_mode": {
    "name": "ipython",
    "version": 3
   },
   "file_extension": ".py",
   "mimetype": "text/x-python",
   "name": "python",
   "nbconvert_exporter": "python",
   "pygments_lexer": "ipython3",
   "version": "3.9.6"
  }
 },
 "nbformat": 4,
 "nbformat_minor": 5
}
